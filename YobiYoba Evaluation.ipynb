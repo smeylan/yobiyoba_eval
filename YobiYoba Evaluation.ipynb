{
 "cells": [
  {
   "cell_type": "code",
   "execution_count": null,
   "metadata": {},
   "outputs": [],
   "source": [
    "# Operations on YobiYobaXML\n",
    "# Yield an RTTM for evaluating SAD and diarization"
   ]
  },
  {
   "cell_type": "code",
   "execution_count": 409,
   "metadata": {},
   "outputs": [
    {
     "name": "stdout",
     "output_type": "stream",
     "text": [
      "The rpy2.ipython extension is already loaded. To reload it, use:\n",
      "  %reload_ext rpy2.ipython\n"
     ]
    },
    {
     "data": {
      "text/plain": [
       "array(['RColorBrewer', 'gridExtra', 'grid', 'magick', 'ggplot2', 'tools',\n",
       "       'stats', 'graphics', 'grDevices', 'utils', 'datasets', 'methods',\n",
       "       'base'], dtype='<U12')"
      ]
     },
     "execution_count": 409,
     "metadata": {},
     "output_type": "execute_result"
    }
   ],
   "source": [
    "import xml.etree.ElementTree as ET\n",
    "import pandas as pd\n",
    "import numpy as np\n",
    "%load_ext rpy2.ipython\n",
    "import rpy2.robjects.lib.ggplot2 as ggplot2\n",
    "%R library(magick)\n",
    "%R library(grid)\n",
    "%R library(gridExtra)\n",
    "%R library(RColorBrewer)"
   ]
  },
  {
   "cell_type": "code",
   "execution_count": 543,
   "metadata": {},
   "outputs": [],
   "source": [
    "def readRTTM(table_path, label):\n",
    "    rttm = pd.read_table(table_path, sep=' ',header=None)\n",
    "    rttm.columns = ['speaker','file','channel','stime','duration','unk1','unk2','spkid','unk3']\n",
    "    rttm['spkid'] = [label +': '+x for x in rttm['spkid'].map(str)] \n",
    "    rttm['source'] = label\n",
    "    rttm['etime'] = rttm['stime'] + rttm['duration']\n",
    "    return(rttm)\n",
    "\n",
    "def getSegmentProperties(SpeechSegment):\n",
    "    return(SpeechSegment.attrib)\n",
    "\n",
    "def  getWordProperties(Word):\n",
    "    rdict = Word.attrib\n",
    "    rdict['text'] = Word.text\n",
    "    return(rdict)\n",
    "\n",
    "def readYobiYoba(xml_path, returnType = 'segments'):\n",
    "    tree = ET.parse(xml_path)\n",
    "    root = tree.getroot()\n",
    "    if returnType == 'segments':\n",
    "        segments = pd.DataFrame([getSegmentProperties(SpeechSegment) for SpeechSegment in root.iter('SpeechSegment')])\n",
    "        segments['etime'] = segments['etime'].astype(float)\n",
    "        segments['stime'] = segments['stime'].astype(float)\n",
    "        segments['duration'] =  segments['etime'] - segments['stime']\n",
    "        segments['source'] = 'YobiYoba'\n",
    "        segments['spkid'] = ['YobiYoba: '+x for x in segments['spkid'].map(str)] \n",
    "        return(segments)\n",
    "    elif returnType == 'words':\n",
    "        words = []     \n",
    "        for SpeechSegment in root.iter('SpeechSegment'):\n",
    "            words.append(pd.DataFrame([getWordProperties(Word) for Word in SpeechSegment.iter('Word')]))        \n",
    "        return(pd.concat(words))"
   ]
  },
  {
   "cell_type": "code",
   "execution_count": 474,
   "metadata": {},
   "outputs": [],
   "source": [
    "import csv \n",
    "def convertYobiYobaToRTTM(recording):\n",
    "    segments = readYobiYoba(dataPath+recording+'.mp3_eng-usa_6.0.xml')\n",
    "    \n",
    "    # reformat this as a RTTM\n",
    "    to_write = segments.copy()\n",
    "    to_write['speaker'] = 'SPEAKER'\n",
    "    to_write['filename'] = recording\n",
    "    to_write['one'] = 1\n",
    "    to_write['na1'] = None\n",
    "    to_write['na2'] = None\n",
    "    to_write['spkid'] = [x.replace(' ','') for x in to_write['spkid']]\n",
    "    to_write['na3'] = None\n",
    "    \n",
    "    cols_to_write = ['speaker', 'filename','one','stime','duration','na1','na2','spkid','na3']\n",
    "    pathname = 'yobiyoba_'+recording+'.rttm'\n",
    "    print(to_write[cols_to_write])\n",
    "    to_write[cols_to_write].to_csv(pathname,sep=' ', na_rep='<NA>',\n",
    "        quoting=csv.QUOTE_NONE, header=False, index=False)"
   ]
  },
  {
   "cell_type": "code",
   "execution_count": 475,
   "metadata": {},
   "outputs": [
    {
     "name": "stdout",
     "output_type": "stream",
     "text": [
      "    speaker                    filename  one   stime  duration   na1   na2  \\\n",
      "0   SPEAKER  84071-BER_2224_16_11_01293    1    0.01      2.23  None  None   \n",
      "1   SPEAKER  84071-BER_2224_16_11_01293    1    3.97     16.94  None  None   \n",
      "2   SPEAKER  84071-BER_2224_16_11_01293    1   24.04      4.13  None  None   \n",
      "3   SPEAKER  84071-BER_2224_16_11_01293    1   30.75      4.96  None  None   \n",
      "4   SPEAKER  84071-BER_2224_16_11_01293    1   38.95      5.77  None  None   \n",
      "5   SPEAKER  84071-BER_2224_16_11_01293    1   51.11     12.38  None  None   \n",
      "6   SPEAKER  84071-BER_2224_16_11_01293    1   66.69      3.08  None  None   \n",
      "7   SPEAKER  84071-BER_2224_16_11_01293    1   73.89      2.48  None  None   \n",
      "8   SPEAKER  84071-BER_2224_16_11_01293    1   83.15     15.24  None  None   \n",
      "9   SPEAKER  84071-BER_2224_16_11_01293    1  101.84      3.48  None  None   \n",
      "10  SPEAKER  84071-BER_2224_16_11_01293    1  106.96      9.19  None  None   \n",
      "11  SPEAKER  84071-BER_2224_16_11_01293    1  118.78      3.35  None  None   \n",
      "12  SPEAKER  84071-BER_2224_16_11_01293    1  126.57     11.15  None  None   \n",
      "13  SPEAKER  84071-BER_2224_16_11_01293    1  144.01      5.13  None  None   \n",
      "14  SPEAKER  84071-BER_2224_16_11_01293    1  156.50      9.20  None  None   \n",
      "15  SPEAKER  84071-BER_2224_16_11_01293    1  168.69      1.60  None  None   \n",
      "16  SPEAKER  84071-BER_2224_16_11_01293    1  176.39      4.75  None  None   \n",
      "17  SPEAKER  84071-BER_2224_16_11_01293    1  262.99      1.74  None  None   \n",
      "\n",
      "           spkid   na3  \n",
      "0   YobiYoba:FS1  None  \n",
      "1   YobiYoba:FS1  None  \n",
      "2   YobiYoba:FS1  None  \n",
      "3   YobiYoba:FS1  None  \n",
      "4   YobiYoba:FS1  None  \n",
      "5   YobiYoba:FS1  None  \n",
      "6   YobiYoba:FS1  None  \n",
      "7   YobiYoba:FS1  None  \n",
      "8   YobiYoba:FS1  None  \n",
      "9   YobiYoba:FS1  None  \n",
      "10  YobiYoba:FS1  None  \n",
      "11  YobiYoba:FS1  None  \n",
      "12  YobiYoba:FS1  None  \n",
      "13  YobiYoba:FS1  None  \n",
      "14  YobiYoba:FS1  None  \n",
      "15  YobiYoba:FS1  None  \n",
      "16  YobiYoba:FS1  None  \n",
      "17  YobiYoba:FS1  None  \n"
     ]
    }
   ],
   "source": [
    "convertYobiYobaToRTTM('84071-BER_2224_16_11_01293')"
   ]
  },
  {
   "cell_type": "code",
   "execution_count": 476,
   "metadata": {},
   "outputs": [
    {
     "name": "stdout",
     "output_type": "stream",
     "text": [
      "   speaker                    filename  one   stime  duration   na1   na2  \\\n",
      "0  SPEAKER  80856-BER_0713_07_02_21041    1   13.34      0.61  None  None   \n",
      "1  SPEAKER  80856-BER_0713_07_02_21041    1  160.96      0.95  None  None   \n",
      "2  SPEAKER  80856-BER_0713_07_02_21041    1  173.76      2.23  None  None   \n",
      "3  SPEAKER  80856-BER_0713_07_02_21041    1  178.52      7.44  None  None   \n",
      "4  SPEAKER  80856-BER_0713_07_02_21041    1  222.62      1.14  None  None   \n",
      "5  SPEAKER  80856-BER_0713_07_02_21041    1  270.80      0.95  None  None   \n",
      "\n",
      "          spkid   na3  \n",
      "0  YobiYoba:FS1  None  \n",
      "1  YobiYoba:MS1  None  \n",
      "2  YobiYoba:MS1  None  \n",
      "3  YobiYoba:MS1  None  \n",
      "4  YobiYoba:FS2  None  \n",
      "5  YobiYoba:FS2  None  \n"
     ]
    }
   ],
   "source": [
    "convertYobiYobaToRTTM('80856-BER_0713_07_02_21041')"
   ]
  },
  {
   "cell_type": "code",
   "execution_count": 441,
   "metadata": {},
   "outputs": [],
   "source": [
    "def getPlotForRecording(recording, nrows= 0):\n",
    "    segments = readYobiYoba(dataPath+recording+'.mp3_eng-usa_6.0.xml')\n",
    "    \n",
    "    rttm = [] \n",
    "    for rttm_name in ('noisemesSad','opensmileSad', 'tocomboSad'):\n",
    "        rttm.append(readRTTM(dataPath+'diartk_'+rttm_name+'_'+recording+'.rttm', rttm_name))\n",
    "\n",
    "    rttm.append(readRTTM(dataPath+recording+'.rttm', 'Gold'))\n",
    "    rttm_df = pd.concat(rttm)[['stime','etime','source','spkid']]\n",
    "    rttm_df['spkid'] = [x.replace(recording,'') for x in rttm_df['spkid']]\n",
    "    \n",
    "    %R -i rttm_df,segments,recording,nrows\n",
    "    %R rttm_df$y = as.numeric(as.factor(rttm_df$source)) -1 \n",
    "    %R myColors <- rep(brewer.pal(9,\"Set1\"),3)\n",
    "    %R names(myColors) <- levels(p1$spkid)\n",
    "    %R  p1 = ggplot(segments)  + geom_segment(aes(x=stime,y=.999,xend=etime,yend=.999, \\\n",
    "    colour=spkid))    \n",
    "    %R p1 = p1 + geom_segment(data=rttm_df, aes(x=stime,y=1+(y*.001), xend=etime,yend=1+(y*.001), \\\n",
    "     colour=factor(spkid))) + coord_cartesian(ylim=c(.94,1.09)) + scale_colour_manual(name =\"spkid\",values = myColors) \n",
    "    %R p1 = p1 + xlab('Time (in seconds)') + theme_classic()\n",
    "    \n",
    "    if nrows == 0:\n",
    "        %R ggsave(paste('figures/',recording,'_comparison.pdf', sep=''), width=20, height=4)\n",
    "        %R -w 1000 -h 400 print(p1)\n",
    "        \n",
    "    else:\n",
    "        # set up dimeensions\n",
    "        %R inch_res = 300\n",
    "        %R row_height = 1\n",
    "        %R row_width = 6\n",
    "        %R image_width_px = row_width * inch_res\n",
    "        %R image_height_px = row_height * inch_res\n",
    "        %R legend_width = 4\n",
    "        %R legend_width_px = legend_width * inch_res\n",
    "        \n",
    "        # first, get the legend\n",
    "        %R legend <- cowplot::get_legend(p1)\n",
    "        %R cowplot::ggsave(paste('figures/',recording,'_legend.png', sep=''), plot = legend, width = legend_width, height = row_height*nrows,units = \"in\", dpi = inch_res)\n",
    "        \n",
    "        # split the x axis into nrow equal parts\n",
    "        earliest = np.min(segments['stime'])\n",
    "        latest = np.max(segments['etime'])\n",
    "        total_length = latest - earliest\n",
    "        time_per_interval = total_length / nrows\n",
    "        start_times = np.array(range(nrows)) * time_per_interval\n",
    "        end_times = (np.array(range(nrows)) + 1) * time_per_interval\n",
    "        print(start_times)\n",
    "        print(end_times)\n",
    "        %R -i start_times,end_times\n",
    "\n",
    "        %R composited_image = image_read('/home/stephan/notebooks/muybridge/assets/white_panel_512_256.png')\n",
    "        %R composited_image = composited_image %>% image_scale(paste(image_width_px+legend_width_px,\"x\", nrows*image_height_px,\"!\", sep=''))\n",
    "        \n",
    "        # think carefully about how to index properly\n",
    "        for row_index in range(1,nrows+1): #4 rows = 1,2,3,4: R indexing\n",
    "            %R -i row_index\n",
    "            %R p2  = p1 + coord_cartesian(xlim=c(start_times[row_index],end_times[row_index]))\n",
    "            %R p2 = p2 + theme(legend.position=\"none\") + ylab('') +  theme(axis.title.y=element_blank(), \\\n",
    "                axis.text.y=element_blank(), \\\n",
    "                axis.ticks.y=element_blank())            \n",
    " \n",
    "            # capture the graph with imagemagick on each iteration; print the successive imates in order to files\n",
    "            %R img_path = paste('figures/', recording,'_',row_index,'.png',sep='')\n",
    "            %R ggsave(img_path, width = row_width, \\\n",
    "                     height= row_height, device = \"png\", \\\n",
    "                     dpi = inch_res, units='in')\n",
    "            %R new_piece = image_read(img_path)            \n",
    "            %R composited_image = image_composite(composited_image, new_piece, \\\n",
    "                offset = paste('+0+',(row_index - 1)*image_height_px, sep=''))\n",
    "\n",
    "        # Add the legend\n",
    "        %R legend = image_read(paste('figures/',recording,'_legend.png', sep=''))\n",
    "        %R composited_image = image_composite(composited_image, legend, \\\n",
    "                offset = paste('+',image_width_px,'+0', sep=''))\n",
    "        \n",
    "        # write out the composited image\n",
    "        %R image_write(composited_image, path = paste(\"figures/\",recording,\"_composited.png\", \\\n",
    "            sep=''), format = \"png\")"
   ]
  },
  {
   "cell_type": "code",
   "execution_count": 445,
   "metadata": {},
   "outputs": [
    {
     "data": {
      "text/plain": [
       "'/home/stephan/notebooks/annotation_stack_test'"
      ]
     },
     "execution_count": 445,
     "metadata": {},
     "output_type": "execute_result"
    }
   ],
   "source": [
    "import os \n",
    "os.getcwd()\n",
    "# see if this worked"
   ]
  },
  {
   "cell_type": "code",
   "execution_count": 443,
   "metadata": {
    "scrolled": false
   },
   "outputs": [
    {
     "name": "stderr",
     "output_type": "stream",
     "text": [
      "/home/stephan/.local/lib/python3.5/site-packages/rpy2/robjects/pandas2ri.py:191: FutureWarning: from_items is deprecated. Please use DataFrame.from_dict(dict(items), ...) instead. DataFrame.from_dict(OrderedDict(items)) may be used to preserve the key order.\n",
      "  res = PandasDataFrame.from_items(items)\n"
     ]
    },
    {
     "name": "stdout",
     "output_type": "stream",
     "text": [
      "[  0.    66.18 132.36 198.54]\n",
      "[ 66.18 132.36 198.54 264.72]\n"
     ]
    },
    {
     "name": "stderr",
     "output_type": "stream",
     "text": [
      "/home/stephan/.local/lib/python3.5/site-packages/rpy2/rinterface/__init__.py:146: RRuntimeWarning: Coordinate system already present. Adding new coordinate system, which will replace the existing one.\n",
      "\n",
      "  warnings.warn(x, RRuntimeWarning)\n"
     ]
    }
   ],
   "source": [
    "dataPath = '/shared_hd1/VMs/DiViMe/data/'\n",
    "getPlotForRecording('84071-BER_2224_16_11_01293', nrows=4)"
   ]
  },
  {
   "cell_type": "code",
   "execution_count": 446,
   "metadata": {},
   "outputs": [
    {
     "name": "stderr",
     "output_type": "stream",
     "text": [
      "/home/stephan/.local/lib/python3.5/site-packages/rpy2/robjects/pandas2ri.py:191: FutureWarning: from_items is deprecated. Please use DataFrame.from_dict(dict(items), ...) instead. DataFrame.from_dict(OrderedDict(items)) may be used to preserve the key order.\n",
      "  res = PandasDataFrame.from_items(items)\n"
     ]
    },
    {
     "name": "stdout",
     "output_type": "stream",
     "text": [
      "[  0.      64.6025 129.205  193.8075]\n",
      "[ 64.6025 129.205  193.8075 258.41  ]\n"
     ]
    },
    {
     "name": "stderr",
     "output_type": "stream",
     "text": [
      "/home/stephan/.local/lib/python3.5/site-packages/rpy2/rinterface/__init__.py:146: RRuntimeWarning: Coordinate system already present. Adding new coordinate system, which will replace the existing one.\n",
      "\n",
      "  warnings.warn(x, RRuntimeWarning)\n"
     ]
    }
   ],
   "source": [
    "getPlotForRecording('80856-BER_0713_07_02_21041', nrows=4)"
   ]
  },
  {
   "cell_type": "code",
   "execution_count": 447,
   "metadata": {},
   "outputs": [],
   "source": [
    "# tried to add distinct point types to all segments, but this breaks the legends"
   ]
  },
  {
   "cell_type": "code",
   "execution_count": 490,
   "metadata": {},
   "outputs": [],
   "source": [
    "# Accuracy\n",
    "sad_tools = ['noisemesSad','opensmileSad','tocomboSad','yobiyoba']"
   ]
  },
  {
   "cell_type": "code",
   "execution_count": 512,
   "metadata": {
    "scrolled": false
   },
   "outputs": [],
   "source": [
    "def getTableForMetric(tools, metric):\n",
    "    accuracy_dfs = []\n",
    "    for tool in tools:\n",
    "        r = metric + '_' + tool +'_report.csv'\n",
    "        df = pd.read_csv(dataPath+r)\n",
    "        df = df.loc[df.item != 'TOTAL']\n",
    "        df['file'] = [x.replace('.rttm','') for x in df['item']]\n",
    "        df['detection_tool'] = r.replace(metric+'_','').replace('_report.csv','')\n",
    "        accuracy_dfs.append(df)\n",
    "    return(pd.concat(accuracy_dfs))"
   ]
  },
  {
   "cell_type": "code",
   "execution_count": 513,
   "metadata": {},
   "outputs": [
    {
     "name": "stderr",
     "output_type": "stream",
     "text": [
      "/home/stephan/.local/lib/python3.5/site-packages/rpy2/robjects/pandas2ri.py:191: FutureWarning: from_items is deprecated. Please use DataFrame.from_dict(dict(items), ...) instead. DataFrame.from_dict(OrderedDict(items)) may be used to preserve the key order.\n",
      "  res = PandasDataFrame.from_items(items)\n"
     ]
    }
   ],
   "source": [
    "acc_df = getTableForMetric(sad_tools,'accuracy')\n",
    "%R -i acc_df"
   ]
  },
  {
   "cell_type": "code",
   "execution_count": 514,
   "metadata": {},
   "outputs": [
    {
     "data": {
      "image/png": "[encoded data removed]"
     },
     "metadata": {},
     "output_type": "display_data"
    }
   ],
   "source": [
    "%%R\n",
    "p1 = ggplot(acc_df) + geom_point(aes(x=detection_tool, y=detection.accuracy.., colour=item)\n",
    ") + theme_classic() + xlab('SAD tool') + ylab('Detection Accuracy (%)'\n",
    ") + guides(colour=guide_legend(title=\"Recording Session\"))\n",
    "print(p1)\n",
    "ggsave('figures/accuracy.pdf', width=8, height=4)"
   ]
  },
  {
   "cell_type": "code",
   "execution_count": 517,
   "metadata": {},
   "outputs": [
    {
     "name": "stderr",
     "output_type": "stream",
     "text": [
      "/home/stephan/.local/lib/python3.5/site-packages/rpy2/robjects/pandas2ri.py:191: FutureWarning: from_items is deprecated. Please use DataFrame.from_dict(dict(items), ...) instead. DataFrame.from_dict(OrderedDict(items)) may be used to preserve the key order.\n",
      "  res = PandasDataFrame.from_items(items)\n"
     ]
    },
    {
     "data": {
      "text/html": [
       "<div>\n",
       "<style scoped>\n",
       "    .dataframe tbody tr th:only-of-type {\n",
       "        vertical-align: middle;\n",
       "    }\n",
       "\n",
       "    .dataframe tbody tr th {\n",
       "        vertical-align: top;\n",
       "    }\n",
       "\n",
       "    .dataframe thead th {\n",
       "        text-align: right;\n",
       "    }\n",
       "</style>\n",
       "<table border=\"1\" class=\"dataframe\">\n",
       "  <thead>\n",
       "    <tr style=\"text-align: right;\">\n",
       "      <th></th>\n",
       "      <th>item</th>\n",
       "      <th>detection recall %</th>\n",
       "      <th>relevant</th>\n",
       "      <th>relevant retrieved</th>\n",
       "      <th>file</th>\n",
       "      <th>detection_tool</th>\n",
       "    </tr>\n",
       "  </thead>\n",
       "  <tbody>\n",
       "    <tr>\n",
       "      <th>0</th>\n",
       "      <td>80856-BER_0713_07_02_21041.rttm</td>\n",
       "      <td>23.782398</td>\n",
       "      <td>70.22</td>\n",
       "      <td>16.700000</td>\n",
       "      <td>80856-BER_0713_07_02_21041</td>\n",
       "      <td>noisemesSad</td>\n",
       "    </tr>\n",
       "    <tr>\n",
       "      <th>1</th>\n",
       "      <td>84071-BER_2224_16_11_01293.rttm</td>\n",
       "      <td>53.282816</td>\n",
       "      <td>204.55</td>\n",
       "      <td>108.990000</td>\n",
       "      <td>84071-BER_2224_16_11_01293</td>\n",
       "      <td>noisemesSad</td>\n",
       "    </tr>\n",
       "    <tr>\n",
       "      <th>0</th>\n",
       "      <td>80856-BER_0713_07_02_21041.rttm</td>\n",
       "      <td>53.645685</td>\n",
       "      <td>70.22</td>\n",
       "      <td>37.670000</td>\n",
       "      <td>80856-BER_0713_07_02_21041</td>\n",
       "      <td>opensmileSad</td>\n",
       "    </tr>\n",
       "    <tr>\n",
       "      <th>1</th>\n",
       "      <td>84071-BER_2224_16_11_01293.rttm</td>\n",
       "      <td>78.376937</td>\n",
       "      <td>204.55</td>\n",
       "      <td>160.320024</td>\n",
       "      <td>84071-BER_2224_16_11_01293</td>\n",
       "      <td>opensmileSad</td>\n",
       "    </tr>\n",
       "    <tr>\n",
       "      <th>0</th>\n",
       "      <td>80856-BER_0713_07_02_21041.rttm</td>\n",
       "      <td>64.924523</td>\n",
       "      <td>70.22</td>\n",
       "      <td>45.590000</td>\n",
       "      <td>80856-BER_0713_07_02_21041</td>\n",
       "      <td>tocomboSad</td>\n",
       "    </tr>\n",
       "    <tr>\n",
       "      <th>1</th>\n",
       "      <td>84071-BER_2224_16_11_01293.rttm</td>\n",
       "      <td>63.026155</td>\n",
       "      <td>204.55</td>\n",
       "      <td>128.920000</td>\n",
       "      <td>84071-BER_2224_16_11_01293</td>\n",
       "      <td>tocomboSad</td>\n",
       "    </tr>\n",
       "    <tr>\n",
       "      <th>0</th>\n",
       "      <td>80856-BER_0713_07_02_21041.rttm</td>\n",
       "      <td>13.984620</td>\n",
       "      <td>70.22</td>\n",
       "      <td>9.820000</td>\n",
       "      <td>80856-BER_0713_07_02_21041</td>\n",
       "      <td>yobiyoba</td>\n",
       "    </tr>\n",
       "    <tr>\n",
       "      <th>1</th>\n",
       "      <td>84071-BER_2224_16_11_01293.rttm</td>\n",
       "      <td>50.823759</td>\n",
       "      <td>204.55</td>\n",
       "      <td>103.960000</td>\n",
       "      <td>84071-BER_2224_16_11_01293</td>\n",
       "      <td>yobiyoba</td>\n",
       "    </tr>\n",
       "  </tbody>\n",
       "</table>\n",
       "</div>"
      ],
      "text/plain": [
       "                              item  detection recall %  relevant  \\\n",
       "0  80856-BER_0713_07_02_21041.rttm           23.782398     70.22   \n",
       "1  84071-BER_2224_16_11_01293.rttm           53.282816    204.55   \n",
       "0  80856-BER_0713_07_02_21041.rttm           53.645685     70.22   \n",
       "1  84071-BER_2224_16_11_01293.rttm           78.376937    204.55   \n",
       "0  80856-BER_0713_07_02_21041.rttm           64.924523     70.22   \n",
       "1  84071-BER_2224_16_11_01293.rttm           63.026155    204.55   \n",
       "0  80856-BER_0713_07_02_21041.rttm           13.984620     70.22   \n",
       "1  84071-BER_2224_16_11_01293.rttm           50.823759    204.55   \n",
       "\n",
       "   relevant retrieved                        file detection_tool  \n",
       "0           16.700000  80856-BER_0713_07_02_21041    noisemesSad  \n",
       "1          108.990000  84071-BER_2224_16_11_01293    noisemesSad  \n",
       "0           37.670000  80856-BER_0713_07_02_21041   opensmileSad  \n",
       "1          160.320024  84071-BER_2224_16_11_01293   opensmileSad  \n",
       "0           45.590000  80856-BER_0713_07_02_21041     tocomboSad  \n",
       "1          128.920000  84071-BER_2224_16_11_01293     tocomboSad  \n",
       "0            9.820000  80856-BER_0713_07_02_21041       yobiyoba  \n",
       "1          103.960000  84071-BER_2224_16_11_01293       yobiyoba  "
      ]
     },
     "execution_count": 517,
     "metadata": {},
     "output_type": "execute_result"
    }
   ],
   "source": [
    "recall_df = getTableForMetric(sad_tools,'recall')\n",
    "%R -i recall_df\n",
    "recall_df"
   ]
  },
  {
   "cell_type": "code",
   "execution_count": 518,
   "metadata": {},
   "outputs": [
    {
     "data": {
      "image/png": "[encoded data removed]"
     },
     "metadata": {},
     "output_type": "display_data"
    }
   ],
   "source": [
    "%%R\n",
    "p1 = ggplot(recall_df) + geom_point(aes(x=detection_tool, y=detection.recall.., colour=item)\n",
    ") + theme_classic() + xlab('SAD tool') + ylab('Detection Recall (%)'\n",
    ") + guides(colour=guide_legend(title=\"Recording Session\"))\n",
    "print(p1)\n",
    "ggsave('figures/recall.pdf', width=8, height=4)"
   ]
  },
  {
   "cell_type": "code",
   "execution_count": 523,
   "metadata": {
    "scrolled": true
   },
   "outputs": [
    {
     "name": "stderr",
     "output_type": "stream",
     "text": [
      "/home/stephan/.local/lib/python3.5/site-packages/rpy2/robjects/pandas2ri.py:191: FutureWarning: from_items is deprecated. Please use DataFrame.from_dict(dict(items), ...) instead. DataFrame.from_dict(OrderedDict(items)) may be used to preserve the key order.\n",
      "  res = PandasDataFrame.from_items(items)\n"
     ]
    },
    {
     "data": {
      "text/plain": [
       "                             item detection.recall.. relevant\n",
       "0 80856-BER_0713_07_02_21041.rttm           23.78240    70.22\n",
       "1 84071-BER_2224_16_11_01293.rttm           53.28282   204.55\n",
       "2 80856-BER_0713_07_02_21041.rttm           53.64568    70.22\n",
       "3 84071-BER_2224_16_11_01293.rttm           78.37694   204.55\n",
       "4 80856-BER_0713_07_02_21041.rttm           64.92452    70.22\n",
       "5 84071-BER_2224_16_11_01293.rttm           63.02615   204.55\n",
       "6 80856-BER_0713_07_02_21041.rttm           13.98462    70.22\n",
       "7 84071-BER_2224_16_11_01293.rttm           50.82376   204.55\n",
       "  relevant.retrieved                       file detection_tool\n",
       "0              16.70 80856-BER_0713_07_02_21041    noisemesSad\n",
       "1             108.99 84071-BER_2224_16_11_01293    noisemesSad\n",
       "2              37.67 80856-BER_0713_07_02_21041   opensmileSad\n",
       "3             160.32 84071-BER_2224_16_11_01293   opensmileSad\n",
       "4              45.59 80856-BER_0713_07_02_21041     tocomboSad\n",
       "5             128.92 84071-BER_2224_16_11_01293     tocomboSad\n",
       "6               9.82 80856-BER_0713_07_02_21041       yobiyoba\n",
       "7             103.96 84071-BER_2224_16_11_01293       yobiyoba\n",
       "  detection.accuracy.. true.positive true.negative false.positive\n",
       "0             79.12917         16.70     201.38000        4.00000\n",
       "1             66.87887        108.99      91.66000        3.81000\n",
       "2             59.81611         37.67     141.23999       87.64002\n",
       "3             68.40212        160.32      44.90002       50.56998\n",
       "4             86.48649         45.59     119.53000        1.17000\n",
       "5             72.96964        128.92      90.04000        5.48000\n",
       "6             76.48574          9.82     198.03000        3.50000\n",
       "7             62.19252        103.96      82.63000       12.84000\n",
       "  false.negative\n",
       "0       53.52000\n",
       "1       95.56000\n",
       "2       32.55000\n",
       "3       44.22998\n",
       "4       24.63000\n",
       "5       75.63000\n",
       "6       60.40000\n",
       "7      100.59000\n"
      ]
     },
     "metadata": {},
     "output_type": "display_data"
    }
   ],
   "source": [
    "detection_df= recall_df.merge(acc_df)\n",
    "%R -i detection_df\n",
    "%R print(detection_df)"
   ]
  },
  {
   "cell_type": "code",
   "execution_count": 531,
   "metadata": {},
   "outputs": [
    {
     "data": {
      "image/png": "[encoded data removed]"
     },
     "metadata": {},
     "output_type": "display_data"
    }
   ],
   "source": [
    "%%R -w 700 -h 500\n",
    "p1 = ggplot(detection_df) + geom_point(aes(x=detection.recall.., y=detection.accuracy.., \n",
    "colour=item, shape=detection_tool), size=3) + theme_classic() + xlab('Recall'\n",
    ") + ylab('Accuracy') + coord_cartesian(xlim=c(0,100), ylim =c(0,100))\n",
    "print(p1)\n",
    "ggsave('figures/sad_accuracy_recall_tradeoff.pdf', width=7, height=5)"
   ]
  },
  {
   "cell_type": "code",
   "execution_count": 651,
   "metadata": {},
   "outputs": [],
   "source": [
    "diarization_tools = ['diartk_noisemesSad','diartk_opensmileSad','diartk_tocomboSad','yobiyoba']"
   ]
  },
  {
   "cell_type": "code",
   "execution_count": 654,
   "metadata": {},
   "outputs": [
    {
     "name": "stderr",
     "output_type": "stream",
     "text": [
      "/home/stephan/.local/lib/python3.5/site-packages/rpy2/robjects/pandas2ri.py:191: FutureWarning: from_items is deprecated. Please use DataFrame.from_dict(dict(items), ...) instead. DataFrame.from_dict(OrderedDict(items)) may be used to preserve the key order.\n",
      "  res = PandasDataFrame.from_items(items)\n"
     ]
    },
    {
     "data": {
      "text/html": [
       "<div>\n",
       "<style scoped>\n",
       "    .dataframe tbody tr th:only-of-type {\n",
       "        vertical-align: middle;\n",
       "    }\n",
       "\n",
       "    .dataframe tbody tr th {\n",
       "        vertical-align: top;\n",
       "    }\n",
       "\n",
       "    .dataframe thead th {\n",
       "        text-align: right;\n",
       "    }\n",
       "</style>\n",
       "<table border=\"1\" class=\"dataframe\">\n",
       "  <thead>\n",
       "    <tr style=\"text-align: right;\">\n",
       "      <th></th>\n",
       "      <th>item</th>\n",
       "      <th>diarization error rate %</th>\n",
       "      <th>total</th>\n",
       "      <th>correct</th>\n",
       "      <th>correct %</th>\n",
       "      <th>false alarm</th>\n",
       "      <th>false alarm %</th>\n",
       "      <th>missed detection</th>\n",
       "      <th>missed detection %</th>\n",
       "      <th>confusion</th>\n",
       "      <th>confusion %</th>\n",
       "      <th>file</th>\n",
       "      <th>detection_tool</th>\n",
       "    </tr>\n",
       "  </thead>\n",
       "  <tbody>\n",
       "    <tr>\n",
       "      <th>0</th>\n",
       "      <td>80856-BER_0713_07_02_21041.rttm</td>\n",
       "      <td>95.084991</td>\n",
       "      <td>75.89</td>\n",
       "      <td>7.81</td>\n",
       "      <td>10.291211</td>\n",
       "      <td>4.08</td>\n",
       "      <td>5.376202</td>\n",
       "      <td>59.05</td>\n",
       "      <td>77.809988</td>\n",
       "      <td>9.03</td>\n",
       "      <td>11.898801</td>\n",
       "      <td>80856-BER_0713_07_02_21041</td>\n",
       "      <td>diartk_noisemesSad</td>\n",
       "    </tr>\n",
       "    <tr>\n",
       "      <th>1</th>\n",
       "      <td>84071-BER_2224_16_11_01293.rttm</td>\n",
       "      <td>89.943362</td>\n",
       "      <td>224.23</td>\n",
       "      <td>26.47</td>\n",
       "      <td>11.804843</td>\n",
       "      <td>3.92</td>\n",
       "      <td>1.748205</td>\n",
       "      <td>114.60</td>\n",
       "      <td>51.108237</td>\n",
       "      <td>83.16</td>\n",
       "      <td>37.086920</td>\n",
       "      <td>84071-BER_2224_16_11_01293</td>\n",
       "      <td>diartk_noisemesSad</td>\n",
       "    </tr>\n",
       "    <tr>\n",
       "      <th>0</th>\n",
       "      <td>80856-BER_0713_07_02_21041.rttm</td>\n",
       "      <td>183.792331</td>\n",
       "      <td>75.89</td>\n",
       "      <td>24.82</td>\n",
       "      <td>32.705231</td>\n",
       "      <td>88.41</td>\n",
       "      <td>116.497562</td>\n",
       "      <td>37.99</td>\n",
       "      <td>50.059296</td>\n",
       "      <td>13.08</td>\n",
       "      <td>17.235472</td>\n",
       "      <td>80856-BER_0713_07_02_21041</td>\n",
       "      <td>diartk_opensmileSad</td>\n",
       "    </tr>\n",
       "    <tr>\n",
       "      <th>1</th>\n",
       "      <td>84071-BER_2224_16_11_01293.rttm</td>\n",
       "      <td>114.150649</td>\n",
       "      <td>224.23</td>\n",
       "      <td>19.13</td>\n",
       "      <td>8.531419</td>\n",
       "      <td>50.86</td>\n",
       "      <td>22.682068</td>\n",
       "      <td>63.25</td>\n",
       "      <td>28.207644</td>\n",
       "      <td>141.85</td>\n",
       "      <td>63.260937</td>\n",
       "      <td>84071-BER_2224_16_11_01293</td>\n",
       "      <td>diartk_opensmileSad</td>\n",
       "    </tr>\n",
       "    <tr>\n",
       "      <th>0</th>\n",
       "      <td>80856-BER_0713_07_02_21041.rttm</td>\n",
       "      <td>84.029516</td>\n",
       "      <td>75.89</td>\n",
       "      <td>13.31</td>\n",
       "      <td>17.538543</td>\n",
       "      <td>1.19</td>\n",
       "      <td>1.568059</td>\n",
       "      <td>30.02</td>\n",
       "      <td>39.557254</td>\n",
       "      <td>32.56</td>\n",
       "      <td>42.904203</td>\n",
       "      <td>80856-BER_0713_07_02_21041</td>\n",
       "      <td>diartk_tocomboSad</td>\n",
       "    </tr>\n",
       "    <tr>\n",
       "      <th>1</th>\n",
       "      <td>84071-BER_2224_16_11_01293.rttm</td>\n",
       "      <td>63.042412</td>\n",
       "      <td>224.23</td>\n",
       "      <td>88.44</td>\n",
       "      <td>39.441645</td>\n",
       "      <td>5.57</td>\n",
       "      <td>2.484057</td>\n",
       "      <td>94.72</td>\n",
       "      <td>42.242340</td>\n",
       "      <td>41.07</td>\n",
       "      <td>18.316015</td>\n",
       "      <td>84071-BER_2224_16_11_01293</td>\n",
       "      <td>diartk_tocomboSad</td>\n",
       "    </tr>\n",
       "    <tr>\n",
       "      <th>0</th>\n",
       "      <td>80856-BER_0713_07_02_21041.rttm</td>\n",
       "      <td>92.041112</td>\n",
       "      <td>75.89</td>\n",
       "      <td>9.54</td>\n",
       "      <td>12.570826</td>\n",
       "      <td>3.50</td>\n",
       "      <td>4.611938</td>\n",
       "      <td>66.07</td>\n",
       "      <td>87.060219</td>\n",
       "      <td>0.28</td>\n",
       "      <td>0.368955</td>\n",
       "      <td>80856-BER_0713_07_02_21041</td>\n",
       "      <td>yobiyoba</td>\n",
       "    </tr>\n",
       "    <tr>\n",
       "      <th>1</th>\n",
       "      <td>84071-BER_2224_16_11_01293.rttm</td>\n",
       "      <td>65.241047</td>\n",
       "      <td>224.23</td>\n",
       "      <td>90.78</td>\n",
       "      <td>40.485216</td>\n",
       "      <td>12.84</td>\n",
       "      <td>5.726263</td>\n",
       "      <td>120.27</td>\n",
       "      <td>53.636891</td>\n",
       "      <td>13.18</td>\n",
       "      <td>5.877893</td>\n",
       "      <td>84071-BER_2224_16_11_01293</td>\n",
       "      <td>yobiyoba</td>\n",
       "    </tr>\n",
       "  </tbody>\n",
       "</table>\n",
       "</div>"
      ],
      "text/plain": [
       "                              item  diarization error rate %   total  correct  \\\n",
       "0  80856-BER_0713_07_02_21041.rttm                 95.084991   75.89     7.81   \n",
       "1  84071-BER_2224_16_11_01293.rttm                 89.943362  224.23    26.47   \n",
       "0  80856-BER_0713_07_02_21041.rttm                183.792331   75.89    24.82   \n",
       "1  84071-BER_2224_16_11_01293.rttm                114.150649  224.23    19.13   \n",
       "0  80856-BER_0713_07_02_21041.rttm                 84.029516   75.89    13.31   \n",
       "1  84071-BER_2224_16_11_01293.rttm                 63.042412  224.23    88.44   \n",
       "0  80856-BER_0713_07_02_21041.rttm                 92.041112   75.89     9.54   \n",
       "1  84071-BER_2224_16_11_01293.rttm                 65.241047  224.23    90.78   \n",
       "\n",
       "   correct %  false alarm  false alarm %  missed detection  \\\n",
       "0  10.291211         4.08       5.376202             59.05   \n",
       "1  11.804843         3.92       1.748205            114.60   \n",
       "0  32.705231        88.41     116.497562             37.99   \n",
       "1   8.531419        50.86      22.682068             63.25   \n",
       "0  17.538543         1.19       1.568059             30.02   \n",
       "1  39.441645         5.57       2.484057             94.72   \n",
       "0  12.570826         3.50       4.611938             66.07   \n",
       "1  40.485216        12.84       5.726263            120.27   \n",
       "\n",
       "   missed detection %  confusion  confusion %                        file  \\\n",
       "0           77.809988       9.03    11.898801  80856-BER_0713_07_02_21041   \n",
       "1           51.108237      83.16    37.086920  84071-BER_2224_16_11_01293   \n",
       "0           50.059296      13.08    17.235472  80856-BER_0713_07_02_21041   \n",
       "1           28.207644     141.85    63.260937  84071-BER_2224_16_11_01293   \n",
       "0           39.557254      32.56    42.904203  80856-BER_0713_07_02_21041   \n",
       "1           42.242340      41.07    18.316015  84071-BER_2224_16_11_01293   \n",
       "0           87.060219       0.28     0.368955  80856-BER_0713_07_02_21041   \n",
       "1           53.636891      13.18     5.877893  84071-BER_2224_16_11_01293   \n",
       "\n",
       "        detection_tool  \n",
       "0   diartk_noisemesSad  \n",
       "1   diartk_noisemesSad  \n",
       "0  diartk_opensmileSad  \n",
       "1  diartk_opensmileSad  \n",
       "0    diartk_tocomboSad  \n",
       "1    diartk_tocomboSad  \n",
       "0             yobiyoba  \n",
       "1             yobiyoba  "
      ]
     },
     "execution_count": 654,
     "metadata": {},
     "output_type": "execute_result"
    }
   ],
   "source": [
    "diarization_df = getTableForMetric(diarization_tools,'diaer')\n",
    "%R -i diarization_df\n",
    "diarization_df"
   ]
  },
  {
   "cell_type": "code",
   "execution_count": 665,
   "metadata": {},
   "outputs": [
    {
     "data": {
      "text/plain": [
       " [1] \"item\"                     \"diarization.error.rate..\"\n",
       " [3] \"total\"                    \"correct\"                 \n",
       " [5] \"correct..\"                \"false.alarm\"             \n",
       " [7] \"false.alarm..\"            \"missed.detection\"        \n",
       " [9] \"missed.detection..\"       \"confusion\"               \n",
       "[11] \"confusion..\"              \"file\"                    \n",
       "[13] \"detection_tool\"          \n"
      ]
     },
     "metadata": {},
     "output_type": "display_data"
    },
    {
     "data": {
      "image/png": "[encoded data removed]"
     },
     "metadata": {},
     "output_type": "display_data"
    }
   ],
   "source": [
    "%%R -h 500 -w 700\n",
    "print(names(diarization_df))\n",
    "ggplot(diarization_df) + geom_point(aes(x=false.alarm.., y=missed.detection.., colour=file, \n",
    "shape = detection_tool), size=6) + coord_cartesian(xlim=c(0,120), ylim=c(0,120)\n",
    ") + theme_classic() + ylab('Missed Detection (%)')+ xlab('False Alarm (%)')"
   ]
  },
  {
   "cell_type": "code",
   "execution_count": 671,
   "metadata": {},
   "outputs": [
    {
     "data": {
      "text/plain": [
       " [1] \"item\"                     \"diarization.error.rate..\"\n",
       " [3] \"total\"                    \"correct\"                 \n",
       " [5] \"correct..\"                \"false.alarm\"             \n",
       " [7] \"false.alarm..\"            \"missed.detection\"        \n",
       " [9] \"missed.detection..\"       \"confusion\"               \n",
       "[11] \"confusion..\"              \"file\"                    \n",
       "[13] \"detection_tool\"          \n"
      ]
     },
     "metadata": {},
     "output_type": "display_data"
    },
    {
     "data": {
      "image/png": "[encoded data removed]"
     },
     "metadata": {},
     "output_type": "display_data"
    }
   ],
   "source": [
    "%%R\n",
    "print(names(diarization_df))\n",
    "ggplot(diarization_df) + geom_point(aes(x=confusion.., y=diarization.error.rate.., colour=file, \n",
    "shape = detection_tool), size=6\n",
    ") + theme_classic() + ylab('Diarization Error Rate (%)')+ xlab('Confusion (%)')"
   ]
  },
  {
   "cell_type": "markdown",
   "metadata": {},
   "source": [
    "# Word Error Rate"
   ]
  },
  {
   "cell_type": "code",
   "execution_count": 648,
   "metadata": {},
   "outputs": [],
   "source": [
    "import re\n",
    "import string\n",
    "from jiwer import wer\n",
    "\n",
    "def getYobiYobaWords(recording):\n",
    "    xml_path = dataPath+recording+'.mp3_eng-usa_6.0.xml'\n",
    "    word_df = readYobiYoba(xml_path, returnType = 'words')\n",
    "    wordstring = ' '.join([x.lower() for x in word_df.text])\n",
    "    wordstring = wordstring.translate(str.maketrans('', '', string.punctuation))\n",
    "    wordstring = re.sub(r' +', ' ', wordstring)    \n",
    "    return(wordstring.strip())\n",
    "\n",
    "def getGoldStandardWords(xml_path):\n",
    "    tree = ET.parse(xml_path)\n",
    "    root = tree.getroot()\n",
    "    wordstring = ' '.join([x.text.lower() for x in root.iter('ANNOTATION_VALUE') if x.text is not None])\n",
    "    wordstring = wordstring.translate(str.maketrans('', '', string.punctuation))    \n",
    "    wordstring = re.sub(r' +', ' ', wordstring)    \n",
    "    wordstring = re.sub(r'\\\\[.*?\\\\]', '', wordstring)    \n",
    "    wordstring = re.sub(r'\\\\{', '', wordstring)    \n",
    "    wordlist = re.sub(r'\\\\}', '', wordstring).split(' ')    \n",
    "    excludes = ['0','n','y','zzz','c','w','l','m','a','u','xxx', 'mm','pa','1']\n",
    "    wordlist = [x for x in wordlist if x not in excludes]\n",
    "    print('Processed:')\n",
    "    print(wordlist)\n",
    "    return(' '.join(wordlist))\n",
    "    \n",
    "def computeWER(recording):\n",
    "    gs_for_file = {\n",
    "        \"80856-BER_0713_07_02_21041\": \"121251-BER_0713_07_02_21041-CP.eaf\",\n",
    "        \"84071-BER_2224_16_11_01293\": \"121253-BER_2224_16_11_01293-CP.eaf\"\n",
    "    }\n",
    "    \n",
    "    xml_path = '/shared_hd1/VMs/DiViMe/data/'+gs_for_file[recording]\n",
    "    yy_words = getYobiYobaWords(recording)\n",
    "    gs_words = getGoldStandardWords(xml_path)\n",
    "    print('Hypothesized annotation:')\n",
    "    print(yy_words)\n",
    "    print('Gold Standard Annotation:')\n",
    "    print(gs_words)\n",
    "    print(wer(gs_words,yy_words))"
   ]
  },
  {
   "cell_type": "code",
   "execution_count": 649,
   "metadata": {},
   "outputs": [
    {
     "name": "stdout",
     "output_type": "stream",
     "text": [
      "Processed:\n",
      "['yeah', 'imitates', 'imitates', 'okay', 'you', 'want', 'food', 'you', 'want', 'bottle', 'oh', 'oh', 'no', 'oh', 'my', 'goodness', 'oh', 'oh', 'no', 'your', 'life', 'is', 'horrible', 'oh', 'oh', 'jeez', 'oh', 'no', 'oh', 'yeah', 'were', 'gonna', 'do', 'it', 'in', 'one', 'oh', 'i', 'missed', 'some', 'two', 'three', 'yeah', 'oh', 'boy', 'okay', 'okay', 'here', 'we', 'go', 'heres', 'your', 'oh', 'i', 'know', 'i', 'know', 'i', 'know', 'i', 'know', 'oh', 'boy', 'oh', 'boy']\n",
      "Hypothesized annotation:\n",
      "has oh boy oh here we go heres your oh i know i know no no oh boy oh boy yes yes\n",
      "Gold Standard Annotation:\n",
      "yeah imitates imitates okay you want food you want bottle oh oh no oh my goodness oh oh no your life is horrible oh oh jeez oh no oh yeah were gonna do it in one oh i missed some two three yeah oh boy okay okay here we go heres your oh i know i know i know i know oh boy oh boy\n",
      "0.7846153846153846\n"
     ]
    }
   ],
   "source": [
    "computeWER('80856-BER_0713_07_02_21041')"
   ]
  },
  {
   "cell_type": "code",
   "execution_count": 650,
   "metadata": {},
   "outputs": [
    {
     "name": "stdout",
     "output_type": "stream",
     "text": [
      "Processed:\n",
      "['what', 'color', 'did', 'it', 'turn', 'his', 'shoes', 'red', 'did', 'pete', 'cry', 'goodness', 'no', 'he', 'kept', 'walking', 'along', 'and', 'singing', 'his', 'song', 'i', 'love', 'my', 'red', 'shoes', 'sings', 'i', 'love', 'my', 'red', 'shoes', 'sings', 'i', 'love', 'my', 'red', 'shoes', 'sings', 'oh', 'no', 'pete', 'stepped', 'in', 'large', 'pile', 'of', 'blueberries', 'what', 'color', 'did', 'it', 'turn', 'his', 'shoes', 'blueberries', 'turned', 'his', 'shoes', 'blue', 'did', 'pete', 'cry', 'what', 'mmhm', 'did', 'pete', 'cry', 'goodness', 'no', 'he', 'kept', 'walking', 'along', 'and', 'singing', 'his', 'song', 'i', 'love', 'my', 'blue', 'shoes', 'sings', 'i', 'love', 'my', 'blue', 'shoes', 'sings', 'i', 'love', 'my', 'blue', 'shoes', 'sings', 'oh', 'no', 'pete', 'stepped', 'in', 'large', 'puddle', 'of', 'mud', 'laughs', 'what', 'color', 'did', 'it', 'turn', 'his', 'shoes', 'brown', 'did', 'pete', 'cry', 'oh', 'goodness', 'no', 'he', 'kept', 'walking', 'along', 'and', 'singing', 'his', 'good', 'whispers', 'i', 'love', 'my', 'brown', 'shoes', 'sings', 'i', 'love', 'my', 'brown', 'shoes', 'sings', 'i', 'love', 'my', 'brown', 'shoes', 'sings', 'oh', 'no', 'pete', 'stepped', 'in', 'bucket', 'of', 'water', 'and', 'all', 'the', 'brown', 'and', 'all', 'the', 'blue', 'and', 'all', 'the', 'red', 'were', 'washed', 'away', 'and', 'what', 'color', 'were', 'his', 'shoes', 'again', 'white', 'but', 'now', 'they', 'were', 'wet', 'did', 'pete', 'cry', 'goodness', 'no', 'he', 'kept', 'walking', 'along', 'and', 'singing', 'his', 'jump', 'jump', 'he', 'kept', 'walking', 'along', 'and', 'singing', 'his', 'song', 'i', 'love', 'my', 'wet', 'shoes', 'sings', 'i', 'love', 'my', 'wet', 'shoes', 'sings', 'i', 'love', 'my', 'wet', 'shoes', 'sings', 'the', 'moral', 'of', 'petes', 'story', 'is', 'no', 'matter', 'what', 'you', 'step', 'in', 'keep', 'walking', 'along', 'and', 'singing', 'your', 'song', 'because', 'its', 'all', 'good', 'the', 'end', 'sings', 'the', 'end', 'pete', 'pete', 'the', 'cat', 'rosemary', 'do', 'you', 'wanna', 'pick', 'book', 'to', 'read', 'you', 'hurt', 'your', 'leg', 'you', 'wanna', 'come', 'tell', 'me', 'about', 'it', 'on', 'the', 'door', 'up', 'and', 'down', 'making', 'pancakes', 'carrots', 'making', 'pancakes', 'oh', 'blue', 'blue', 'are', 'they', 'blue', 'oh', 'cry', 'cry', 'cry', 'scream', 'cry', 'no', 'cry', 'i', 'cant', 'uh', 'no', 'i', 'just', 'twist', 'my', 'leg', 'cry', 'yeah', 'cry', 'oh', 'oh', 'ow', 'how', 'come', 'the', 'baby', 'oh', 'baby']\n",
      "Hypothesized annotation:\n",
      "well i mean that time shows there are ahead did pete witness now he kept walking along and singing a song i love my red shoes i love my red shoes i love my red shoes oh no pete stepped in a large pile these did it turn his shoes all blueberries turned his shoes blue could be the people good news no he catwalk learning cnns i love my new shoes i love my balloon since i love my blue well now pete stepped in the large puddle collated it turned his shoes oh goodness now he kept walking along and sing in his staff i will not blow up all be all i love my brown shoes i love my brown shoes look my brown shoes all well no pete stepped in a bucket up water black hair and all the brown and all that red were washed away and what color and shoes 8 bucks now they were wet good move no people walk them along and sing nabhan time job he kept working along and in his nobel on they know seeing more wet shoes elomar west the moral of pete stereos no matter what you step then people walking along and singing yard because its all we all easy oh there down\n",
      "Gold Standard Annotation:\n",
      "what color did it turn his shoes red did pete cry goodness no he kept walking along and singing his song i love my red shoes sings i love my red shoes sings i love my red shoes sings oh no pete stepped in large pile of blueberries what color did it turn his shoes blueberries turned his shoes blue did pete cry what mmhm did pete cry goodness no he kept walking along and singing his song i love my blue shoes sings i love my blue shoes sings i love my blue shoes sings oh no pete stepped in large puddle of mud laughs what color did it turn his shoes brown did pete cry oh goodness no he kept walking along and singing his good whispers i love my brown shoes sings i love my brown shoes sings i love my brown shoes sings oh no pete stepped in bucket of water and all the brown and all the blue and all the red were washed away and what color were his shoes again white but now they were wet did pete cry goodness no he kept walking along and singing his jump jump he kept walking along and singing his song i love my wet shoes sings i love my wet shoes sings i love my wet shoes sings the moral of petes story is no matter what you step in keep walking along and singing your song because its all good the end sings the end pete pete the cat rosemary do you wanna pick book to read you hurt your leg you wanna come tell me about it on the door up and down making pancakes carrots making pancakes oh blue blue are they blue oh cry cry cry scream cry no cry i cant uh no i just twist my leg cry yeah cry oh oh ow how come the baby oh baby\n",
      "0.628125\n"
     ]
    }
   ],
   "source": [
    "computeWER('84071-BER_2224_16_11_01293')"
   ]
  }
 ],
 "metadata": {
  "kernelspec": {
   "display_name": "Python 3",
   "language": "python",
   "name": "python3"
  },
  "language_info": {
   "codemirror_mode": {
    "name": "ipython",
    "version": 3
   },
   "file_extension": ".py",
   "mimetype": "text/x-python",
   "name": "python",
   "nbconvert_exporter": "python",
   "pygments_lexer": "ipython3",
   "version": "3.5.2"
  }
 },
 "nbformat": 4,
 "nbformat_minor": 2
}
